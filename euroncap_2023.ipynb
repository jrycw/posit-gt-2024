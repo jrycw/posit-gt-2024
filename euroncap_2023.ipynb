{
 "cells": [
  {
   "cell_type": "raw",
   "id": "565da97b-efb6-4dda-8b28-af1042532d0e",
   "metadata": {
    "vscode": {
     "languageId": "raw"
    }
   },
   "source": [
    "---\n",
    "title: \"Euro NCAP Safety Ratings - 2023\"\n",
    "subtitle: \"Submission for Posit 2024 Table Contest\"\n",
    "author: \n",
    "  - name: \"Jerry Wu\" \n",
    "date: 2024/06/05\n",
    "date-format: iso\n",
    "toc: false\n",
    "toc-location: body\n",
    "toc-expand: false\n",
    "\n",
    "format: \n",
    "  html:\n",
    "    code-fold: false\n",
    "    page-layout: full\n",
    "    theme: zephyr\n",
    "jupyter: python\n",
    "---"
   ]
  },
  {
   "cell_type": "markdown",
   "id": "73134ffc",
   "metadata": {},
   "source": [
    "![Quick preview of our project.](quick_preview.mp4)"
   ]
  },
  {
   "cell_type": "markdown",
   "id": "71f99e11",
   "metadata": {},
   "source": [
    "## 0. Introduction"
   ]
  },
  {
   "cell_type": "markdown",
   "id": "0cae3e66",
   "metadata": {},
   "source": [
    "This project aims to integrate the [great-tables 0.7.0](https://github.com/posit-dev/great-tables) and [Polars 0.20.31](https://github.com/pola-rs/polars) packages in Python to create a table displaying the ratings of 17 cars from Euro NCAP for the year 2023. You can find all the code and the tables in this [repository](https://github.com/jrycw/posit-gt-2024). \n",
    "\n",
    "Hereafter, I'll use the abbreviation `gt` to refer to the Python package **great-tables** and `{gt}` to refer to the R package **gt**.\n",
    "\n",
    "We will divide the content into four parts as follows:\n",
    "\n",
    "1. **Data Collection**: Discussing where the data is gathered from and what information it includes.\n",
    "2. **Tweaking the Polars DataFrame**: Explaining how to manipulate the collected data into a Polars DataFrame.\n",
    "3. **Enhancing Presentation with great-tables**: Demonstrating how to transform the Polars DataFrame into a great table using `gt`.\n",
    "4. **Final Thoughts**: Sharing some concluding thoughts and insights."
   ]
  },
  {
   "cell_type": "markdown",
   "id": "38fb07a5",
   "metadata": {},
   "source": [
    "## 1. Data collection"
   ]
  },
  {
   "cell_type": "markdown",
   "id": "85733207",
   "metadata": {},
   "source": [
    "All data, including logos, has been gathered from the [EuroNCAP website](https://www.euroncap.com/en/ratings-rewards/latest-safety-ratings) in JSON format and stored as `euroncap_2023.json`. Next, we'll load the data into a Polars `DataFrame` named `df_mini` using [pl.read_json()](https://docs.pola.rs/py-polars/html/reference/api/polars.read_json.html) and preview the first row along with its column names."
   ]
  },
  {
   "cell_type": "code",
   "execution_count": 1,
   "id": "9954659d-6ec0-4031-9d4b-5b15c5b3002b",
   "metadata": {},
   "outputs": [],
   "source": [
    "# | code-fold: true\n",
    "from enum import Enum\n",
    "from itertools import chain\n",
    "from pathlib import Path\n",
    "from typing import Callable, Iterable\n",
    "\n",
    "import polars as pl\n",
    "from great_tables import GT, html, loc, style, system_fonts\n",
    "from polars import selectors as cs"
   ]
  },
  {
   "cell_type": "code",
   "execution_count": 2,
   "id": "3ecc1357",
   "metadata": {},
   "outputs": [
    {
     "data": {
      "text/html": [
       "<div><style>\n",
       ".dataframe > thead > tr,\n",
       ".dataframe > tbody > tr {\n",
       "  text-align: right;\n",
       "  white-space: pre-wrap;\n",
       "}\n",
       "</style>\n",
       "<small>shape: (1, 18)</small><table border=\"1\" class=\"dataframe\"><thead><tr><th>Make</th><th>Model</th><th>Class</th><th>Url</th><th>Stars</th><th>Frontal Impact</th><th>Lateral Impact</th><th>Rear Impact</th><th>Rescue and Extrication</th><th>Crash Test Performance</th><th>Safety Features</th><th>CRS Installation Check</th><th>VRU Impact Protection</th><th>VRU Impact Mitigation</th><th>Speed Assistance</th><th>Occupant Status Monitoring</th><th>Lane Support</th><th>AEB Car-to-Car</th></tr><tr><td>str</td><td>str</td><td>str</td><td>str</td><td>str</td><td>str</td><td>str</td><td>str</td><td>str</td><td>str</td><td>str</td><td>str</td><td>str</td><td>str</td><td>str</td><td>str</td><td>str</td><td>str</td></tr></thead><tbody><tr><td>&quot;BMW&quot;</td><td>&quot;BMW 5 Series&quot;</td><td>&quot;Large Family Car&quot;</td><td>&quot;https://www.euroncap.com/en/re…</td><td>&quot;5&quot;</td><td>&quot;14.0&quot;</td><td>&quot;15.1&quot;</td><td>&quot;3.5&quot;</td><td>&quot;3.0&quot;</td><td>&quot;24.0&quot;</td><td>&quot;6.0&quot;</td><td>&quot;12&quot;</td><td>&quot;30.1&quot;</td><td>&quot;24.4&quot;</td><td>&quot;1.8&quot;</td><td>&quot;1.3&quot;</td><td>&quot;3.0&quot;</td><td>&quot;8.1&quot;</td></tr></tbody></table></div>"
      ],
      "text/plain": [
       "shape: (1, 18)\n",
       "┌──────┬────────┬─────────────┬─────────────┬───┬─────────────┬─────────────┬─────────┬────────────┐\n",
       "│ Make ┆ Model  ┆ Class       ┆ Url         ┆ … ┆ Speed       ┆ Occupant    ┆ Lane    ┆ AEB        │\n",
       "│ ---  ┆ ---    ┆ ---         ┆ ---         ┆   ┆ Assistance  ┆ Status      ┆ Support ┆ Car-to-Car │\n",
       "│ str  ┆ str    ┆ str         ┆ str         ┆   ┆ ---         ┆ Monitoring  ┆ ---     ┆ ---        │\n",
       "│      ┆        ┆             ┆             ┆   ┆ str         ┆ ---         ┆ str     ┆ str        │\n",
       "│      ┆        ┆             ┆             ┆   ┆             ┆ str         ┆         ┆            │\n",
       "╞══════╪════════╪═════════════╪═════════════╪═══╪═════════════╪═════════════╪═════════╪════════════╡\n",
       "│ BMW  ┆ BMW 5  ┆ Large       ┆ https://www ┆ … ┆ 1.8         ┆ 1.3         ┆ 3.0     ┆ 8.1        │\n",
       "│      ┆ Series ┆ Family Car  ┆ .euroncap.c ┆   ┆             ┆             ┆         ┆            │\n",
       "│      ┆        ┆             ┆ om/en/re…   ┆   ┆             ┆             ┆         ┆            │\n",
       "└──────┴────────┴─────────────┴─────────────┴───┴─────────────┴─────────────┴─────────┴────────────┘"
      ]
     },
     "execution_count": 2,
     "metadata": {},
     "output_type": "execute_result"
    }
   ],
   "source": [
    "json_file = \"euroncap_2023.json\"\n",
    "df_mini = pl.read_json(json_file).head(1)\n",
    "df_mini"
   ]
  },
  {
   "cell_type": "code",
   "execution_count": 3,
   "id": "e956af01",
   "metadata": {},
   "outputs": [
    {
     "data": {
      "text/plain": [
       "['Make',\n",
       " 'Model',\n",
       " 'Class',\n",
       " 'Url',\n",
       " 'Stars',\n",
       " 'Frontal Impact',\n",
       " 'Lateral Impact',\n",
       " 'Rear Impact',\n",
       " 'Rescue and Extrication',\n",
       " 'Crash Test Performance',\n",
       " 'Safety Features',\n",
       " 'CRS Installation Check',\n",
       " 'VRU Impact Protection',\n",
       " 'VRU Impact Mitigation',\n",
       " 'Speed Assistance',\n",
       " 'Occupant Status Monitoring',\n",
       " 'Lane Support',\n",
       " 'AEB Car-to-Car']"
      ]
     },
     "execution_count": 3,
     "metadata": {},
     "output_type": "execute_result"
    }
   ],
   "source": [
    "df_mini.columns"
   ]
  },
  {
   "cell_type": "markdown",
   "id": "27c10f9a",
   "metadata": {},
   "source": [
    "</br>The first few columns contain basic information such as `Make`, `Model`, `Class`, and the `Url` from which the data was gathered. Following these, there's a `Stars` column indicating the car's rating, accompanied by thirteen columns detailing testing scores across four categories: `Adult Occupant`, `Child Occupant`, `Vulnerable Road Users`, and `Safety Assist`. It's worth noting that there may be some rounding errors, which could lead to discrepancies in the sum of each test within each category, as compared to the numbers outlined on the website.\n",
    "\n",
    "Subsequently, we'll define some variables related to the testing categories for later use."
   ]
  },
  {
   "cell_type": "code",
   "execution_count": 4,
   "id": "7fb27b941602401d91542211134fc71a",
   "metadata": {},
   "outputs": [],
   "source": [
    "# | code-fold: true\n",
    "adult_occupant_columns = [\n",
    "    \"Frontal Impact\",\n",
    "    \"Lateral Impact\",\n",
    "    \"Rear Impact\",\n",
    "    \"Rescue and Extrication\",\n",
    "]\n",
    "\n",
    "child_occupant_columns = [\n",
    "    \"Crash Test Performance\",\n",
    "    \"Safety Features\",\n",
    "    \"CRS Installation Check\",\n",
    "]\n",
    "\n",
    "vulnerable_road_users_columns = [\"VRU Impact Protection\", \"VRU Impact Mitigation\"]\n",
    "\n",
    "safety_assist_columns = [\n",
    "    \"Speed Assistance\",\n",
    "    \"Occupant Status Monitoring\",\n",
    "    \"Lane Support\",\n",
    "    \"AEB Car-to-Car\",\n",
    "]\n",
    "\n",
    "testing_columns = (\n",
    "    adult_occupant_columns\n",
    "    + child_occupant_columns\n",
    "    + vulnerable_road_users_columns\n",
    "    + safety_assist_columns\n",
    ")\n",
    "\n",
    "testing_groups = (\n",
    "    adult_occupant_columns,\n",
    "    child_occupant_columns,\n",
    "    vulnerable_road_users_columns,\n",
    "    safety_assist_columns,\n",
    ")\n",
    "\n",
    "testing_group_names = (\"adult\", \"child\", \"vru\", \"assist\")\n",
    "\n",
    "testing_columns_with_rank = []\n",
    "for _grp, _grp_name in zip(testing_groups, testing_group_names):\n",
    "    testing_columns_with_rank.extend(chain(_grp, [_grp_name]))"
   ]
  },
  {
   "cell_type": "markdown",
   "id": "00fc3c2f",
   "metadata": {},
   "source": [
    "::: {.callout-note}\n",
    "Employing the [`itertools.chain`](https://docs.python.org/3/library/itertools.html#itertools.chain) function facilitates the seamless merging of multiple iterables, treating them as a cohesive whole. From personal experience, leveraging it often streamlines tasks and saves time, particularly when combining various types of iterables.\n",
    "\n",
    ":::"
   ]
  },
  {
   "cell_type": "markdown",
   "id": "2c82976a",
   "metadata": {},
   "source": [
    "## 2. Tweaking the Poalrs Dataframe"
   ]
  },
  {
   "cell_type": "markdown",
   "id": "576d4432",
   "metadata": {},
   "source": [
    "### 2.0 Consolidating Data Wrangling into a Single Function"
   ]
  },
  {
   "cell_type": "markdown",
   "id": "dd35c723",
   "metadata": {},
   "source": [
    "We'll apply a technique learned from [Matt Harrison](https://www.linkedin.com/in/panela/), the author of *Effective Pandas* and *Effective Polars*, by consolidating all adjustments into a single function called `tweak_df`. This approach allows us to easily track the modifications made to the raw data at the outset of the Jupyter notebook. First, we'll move the previous `pl.read_json()` call into `tweak_df()` and save it as a temporary variable `df`. Then, we'll use Polars expressions to modify or create several columns."
   ]
  },
  {
   "cell_type": "markdown",
   "id": "d487bd99",
   "metadata": {},
   "source": [
    "```python\n",
    "def tweak_df(json_file: str) -> pl.DataFrame:\n",
    "    df = pl.read_json(json_file)\n",
    "    ...\n",
    "```"
   ]
  },
  {
   "cell_type": "markdown",
   "id": "63def2ac",
   "metadata": {},
   "source": [
    "### 2.1 `Make` column expression"
   ]
  },
  {
   "cell_type": "markdown",
   "id": "fc422e64",
   "metadata": {},
   "source": [
    "To enhance the visual appeal of the `Make` column, we'll transform plain strings into images sourced from the URLs provided in the `euroncap_2023.json` file. These images, stored in the `logo` folder, are suffixed with either `.png` or `.jpg`. The transformation process will be handled by `gt` later. Our immediate goal is to modify the `Make` column to lowercase and append the correct suffix to each entry. For instance, the cell value for *BMW* should be `bmw.png` since the associated image is a `.png` file. Similarly, for *Lexus*, the cell value should be `lexus.jpg`. This can be achieved using the [pl.when().then().otherwise()](https://docs.pola.rs/py-polars/html/reference/expressions/api/polars.when.html) syntax, which is the Polars equivalent of an `if-else` conditional branch, allowing us to dynamically select the appropriate suffix."
   ]
  },
  {
   "cell_type": "markdown",
   "id": "1afada84",
   "metadata": {},
   "source": [
    "```python\n",
    "logo_path = Path(\"logo\")\n",
    "\n",
    "\n",
    "def tweak_df(json_file: str) -> pl.DataFrame:\n",
    "    ...\n",
    "    _make = pl.col(\"Make\").str.to_lowercase()\n",
    "    logo_pngs = [l.stem for l in logo_path.glob(\"*png\")]\n",
    "    make = (\n",
    "        pl.when(_make.is_in(logo_pngs))\n",
    "        .then(_make.add(\".png\"))\n",
    "        .otherwise(_make.add(\".jpg\"))\n",
    "    )\n",
    "```"
   ]
  },
  {
   "cell_type": "markdown",
   "id": "23cea618",
   "metadata": {},
   "source": [
    "### 2.2 `Model` column expression"
   ]
  },
  {
   "cell_type": "markdown",
   "id": "f39bff18",
   "metadata": {},
   "source": [
    "In the `Model` column, we aim to format the entries as hyperlinks that direct users to the URLs containing the rating reports of the respective cars. Again, the formatting task will be delegated to `gt`. Our objective now is to construct strings in **Markdown** format. To accomplish this, we'll create a function called `cols_merge_as_str` to facilitate the transformation."
   ]
  },
  {
   "cell_type": "markdown",
   "id": "fbb848c4",
   "metadata": {},
   "source": [
    "```python\n",
    "def _str_exprize(elem: str | pl.Expr) -> pl.Expr:\n",
    "    if isinstance(elem, pl.Expr):\n",
    "        return elem.cast(pl.Utf8)\n",
    "    return pl.lit(str(elem))\n",
    "\n",
    "\n",
    "def cols_merge_as_str(*elems: pl.Expr | str, alias: str = \"merged_col\") -> pl.Expr:\n",
    "    if not elems:\n",
    "        raise ValueError(\"At least one str or Polars expression must be provided.\")\n",
    "    cols = None\n",
    "    for elem in elems:\n",
    "        if cols is None:\n",
    "            cols = _str_exprize(elem)\n",
    "            continue\n",
    "        cols = cols.add(_str_exprize(elem))\n",
    "    return cols.alias(alias)\n",
    "\n",
    "\n",
    "def tweak_df(json_file: str) -> pl.DataFrame:\n",
    "    ...\n",
    "    model = cols_merge_as_str(\n",
    "        \"[\", pl.col(\"Model\"), \"](\", pl.col(\"Url\"), \")\", alias=\"Model\"\n",
    "    )\n",
    "```"
   ]
  },
  {
   "cell_type": "markdown",
   "id": "1bcd88ca",
   "metadata": {},
   "source": [
    "::: {.callout-note}\n",
    "You may also find the [pl.concat_str()](https://docs.pola.rs/py-polars/html/reference/expressions/api/polars.concat_str.html) function relevant; it's worth exploring for additional insights. Additionally, the `gt` documentation provides an [example](https://github.com/posit-dev/great-tables/blob/main/docs/examples/sports-earnings/index.ipynb) of how to perform a similar operation using [pl.Expr.map_elements()](https://docs.pola.rs/py-polars/html/reference/expressions/api/polars.Expr.map_elements.html).\n",
    "\n",
    ":::"
   ]
  },
  {
   "cell_type": "markdown",
   "id": "3c52a82f",
   "metadata": {},
   "source": [
    "### 2.3 `Stars` column expression"
   ]
  },
  {
   "cell_type": "markdown",
   "id": "c69aa1f9",
   "metadata": {},
   "source": [
    "While images are visually appealing, sometimes it's convenient to express certain ideas using emojis. Therefore, for the `Stars` column, we'll simply concatenate it with the ⭐ emoji."
   ]
  },
  {
   "cell_type": "markdown",
   "id": "a6745d3c",
   "metadata": {},
   "source": [
    "```python\n",
    "def tweak_df(json_file: str) -> pl.DataFrame:\n",
    "    ...\n",
    "    stars = pl.col(\"Stars\").add(\"⭐\")\n",
    "```"
   ]
  },
  {
   "cell_type": "markdown",
   "id": "684f73aa",
   "metadata": {},
   "source": [
    "### 2.4 Four column expressions for categories"
   ]
  },
  {
   "cell_type": "markdown",
   "id": "abe51886",
   "metadata": {},
   "source": [
    "Creating temporary columns can often simplify the process of writing downstream Polars expressions. In this case, we’ll use generator expressions to create a generator that calculates the sum for each of the four categories. It's worth noting that functions like [pl.sum_horizontal()](https://docs.pola.rs/py-polars/html/reference/expressions/api/polars.sum_horizontal.html) are vectorized in Polars, which eliminates the need for slow for-loops when handling operations across different columns."
   ]
  },
  {
   "cell_type": "markdown",
   "id": "f2c9e741",
   "metadata": {},
   "source": [
    "```python\n",
    "def tweak_df(json_file: str) -> pl.DataFrame:\n",
    "    ...\n",
    "    grps = (\n",
    "        pl.sum_horizontal(grp).alias(grp_name)\n",
    "        for grp, grp_name in zip(testing_groups, testing_group_names)\n",
    "    )\n",
    "```"
   ]
  },
  {
   "cell_type": "markdown",
   "id": "dbdcda07",
   "metadata": {},
   "source": [
    "### 2.5 `SubRanks` column expression"
   ]
  },
  {
   "cell_type": "markdown",
   "id": "9c33ce94",
   "metadata": {},
   "source": [
    "When computing the ranks for the four `SubRank` columns, we calculate the rank for each category individually. We use the `min` method with [pl.Expr.rank()](https://docs.pola.rs/py-polars/html/reference/expressions/api/polars.Expr.rank.html) to determine the rank. Consequently, there may be occasional gaps in the ranking if multiple entries share the same rank. Since a higher score signifies a better result, we apply `descending=True` to ensure the correct ranking order."
   ]
  },
  {
   "cell_type": "markdown",
   "id": "b78cf910",
   "metadata": {},
   "source": [
    "```python\n",
    "def tweak_df(json_file: str) -> pl.DataFrame:\n",
    "    ...\n",
    "    sub_ranks = (\n",
    "        pl.col(grp_name).rank(\"min\", descending=True).cast(pl.UInt8)\n",
    "        for grp_name in testing_group_names\n",
    "    )\n",
    "```"
   ]
  },
  {
   "cell_type": "markdown",
   "id": "5847de47",
   "metadata": {},
   "source": [
    "### 2.6 `Rank` column expression"
   ]
  },
  {
   "cell_type": "markdown",
   "id": "36baa7c5",
   "metadata": {},
   "source": [
    "For the `Rank` column, we'll use [pl.mean_horizontal()](https://docs.pola.rs/py-polars/html/reference/expressions/api/polars.mean_horizontal.html) to calculate the average rank across the four categories. We will then rank these averages to determine the final rank using the `min` method with `pl.Expr.rank()`. Since a lower average rank is better, we'll set `descending=False`."
   ]
  },
  {
   "cell_type": "markdown",
   "id": "101f6e08",
   "metadata": {},
   "source": [
    "```python\n",
    "def tweak_df(json_file: str) -> pl.DataFrame:\n",
    "    ...\n",
    "    rank = (\n",
    "        pl.mean_horizontal(testing_group_names)\n",
    "        .rank(\"min\", descending=False)\n",
    "        .cast(pl.UInt8)\n",
    "        .alias(\"Rank\")\n",
    "    )\n",
    "```"
   ]
  },
  {
   "cell_type": "markdown",
   "id": "30a2fe1a",
   "metadata": {},
   "source": [
    "### 2.7 `tweak_df()` function"
   ]
  },
  {
   "cell_type": "markdown",
   "id": "b85e1276",
   "metadata": {},
   "source": [
    "Now, it's time to actually tweak `df`. The function comprises six chained methods:\n",
    "\n",
    "* `.with_columns(pl.col(testing_columns).cast(pl.Float64))`: Casting all `testing_columns` to `pl.Float64`.\n",
    "* `.with_columns(model, make, stars, *grps)`: Creating or modifying the corresponding columns.\n",
    "* `.with_columns(sub_ranks)`: Adding fours `SubRank` columns.\n",
    "* `.with_columns(rank)`: Adding a `Rank` column.\n",
    "* `.sort(\"Class\", \"Rank\", *testing_group_names, descending=[True, False] + [False] * len(testing_group_names))`: Sorting `df` by the specified columns in different orders.\n",
    "* `.select(chain((\"Class\", \"Model\", \"Make\", \"Stars\", \"Rank\"), testing_columns_with_rank))`: Rearranging the final desired columns."
   ]
  },
  {
   "cell_type": "markdown",
   "id": "c8be48df",
   "metadata": {},
   "source": [
    "```python\n",
    "def tweak_df(json_file: str) -> pl.DataFrame:\n",
    "    ...\n",
    "    \n",
    "    return (\n",
    "        df.with_columns(pl.col(testing_columns).cast(pl.Float64))\n",
    "        .with_columns(model, make, stars, *grps)\n",
    "        .with_columns(sub_ranks)\n",
    "        .with_columns(rank)\n",
    "        .sort(\n",
    "            \"Class\",\n",
    "            \"Rank\",\n",
    "            *testing_group_names,\n",
    "            descending=[True, False] + [False] * len(testing_group_names),\n",
    "        )\n",
    "        .select(\n",
    "            chain(\n",
    "                (\"Class\", \"Model\", \"Make\", \"Stars\", \"Rank\"), testing_columns_with_rank\n",
    "            )\n",
    "        )\n",
    "    )\n",
    "```"
   ]
  },
  {
   "cell_type": "markdown",
   "id": "6f7719d8",
   "metadata": {},
   "source": [
    "::: {.callout-note}\n",
    "\n",
    "* [df.with_columns()](https://docs.pola.rs/py-polars/html/reference/dataframe/api/polars.DataFrame.with_columns.html) and [df.select()](https://docs.pola.rs/py-polars/html/reference/dataframe/api/polars.DataFrame.select.html) are referred to as [contexts](https://docs.pola.rs/user-guide/concepts/contexts/), where column expressions are applied.\n",
    "* [pl.col()](https://docs.pola.rs/py-polars/html/reference/expressions/col.html) not only accepts a string as a column name but also multiple strings or even an iterable of strings to select multiple columns simultaneously.\n",
    "\n",
    ":::"
   ]
  },
  {
   "cell_type": "markdown",
   "id": "fbb177aa",
   "metadata": {},
   "source": [
    "### 2.8 Code snippet"
   ]
  },
  {
   "cell_type": "markdown",
   "id": "c3667f58",
   "metadata": {},
   "source": [
    "The code snippet for this section is shown below:"
   ]
  },
  {
   "cell_type": "code",
   "execution_count": 5,
   "id": "de873a8c",
   "metadata": {},
   "outputs": [],
   "source": [
    "# | code-fold: true\n",
    "logo_path = Path(\"logo\")\n",
    "\n",
    "\n",
    "def _str_exprize(elem: str | pl.Expr) -> pl.Expr:\n",
    "    if isinstance(elem, pl.Expr):\n",
    "        return elem.cast(pl.Utf8)\n",
    "    return pl.lit(str(elem))\n",
    "\n",
    "\n",
    "def cols_merge_as_str(*elems: pl.Expr | str, alias: str = \"merged_col\") -> pl.Expr:\n",
    "    \"\"\"\n",
    "    Parameters\n",
    "    ----------\n",
    "    elems\n",
    "        str or Polars expressions.\n",
    "    alias\n",
    "        alias for the final Polars expressions.\n",
    "\n",
    "    Returns:\n",
    "    ----------\n",
    "    pl.Expr\n",
    "        Polars expressions\n",
    "    \"\"\"\n",
    "    if not elems:\n",
    "        raise ValueError(\"At least one str or Polars expression must be provided.\")\n",
    "    cols = None\n",
    "    for elem in elems:\n",
    "        if cols is None:\n",
    "            cols = _str_exprize(elem)\n",
    "            continue\n",
    "        cols = cols.add(_str_exprize(elem))\n",
    "    return cols.alias(alias)\n",
    "\n",
    "\n",
    "def tweak_df(json_file: str) -> pl.DataFrame:\n",
    "    df = pl.read_json(json_file)\n",
    "\n",
    "    _make = pl.col(\"Make\").str.to_lowercase()\n",
    "    logo_pngs = [l.stem for l in logo_path.glob(\"*png\")]\n",
    "    make = (\n",
    "        pl.when(_make.is_in(logo_pngs))\n",
    "        .then(_make.add(\".png\"))\n",
    "        .otherwise(_make.add(\".jpg\"))\n",
    "    )\n",
    "\n",
    "    model = cols_merge_as_str(\n",
    "        \"[\", pl.col(\"Model\"), \"](\", pl.col(\"Url\"), \")\", alias=\"Model\"\n",
    "    )\n",
    "\n",
    "    stars = pl.col(\"Stars\").add(\"⭐\")\n",
    "\n",
    "    grps = (\n",
    "        pl.sum_horizontal(grp).alias(grp_name)\n",
    "        for grp, grp_name in zip(testing_groups, testing_group_names)\n",
    "    )\n",
    "\n",
    "    sub_ranks = (\n",
    "        pl.col(grp_name).rank(\"min\", descending=True).cast(pl.UInt8)\n",
    "        for grp_name in testing_group_names\n",
    "    )\n",
    "\n",
    "    rank = (\n",
    "        pl.mean_horizontal(testing_group_names)\n",
    "        .rank(\"min\", descending=False)\n",
    "        .cast(pl.UInt8)\n",
    "        .alias(\"Rank\")\n",
    "    )\n",
    "\n",
    "    return (\n",
    "        df.with_columns(pl.col(testing_columns).cast(pl.Float64))\n",
    "        .with_columns(model, make, stars, *grps)\n",
    "        .with_columns(sub_ranks)\n",
    "        .with_columns(rank)\n",
    "        .sort(\n",
    "            \"Class\",\n",
    "            \"Rank\",\n",
    "            *testing_group_names,\n",
    "            descending=[True, False] + [False] * len(testing_group_names),\n",
    "        )\n",
    "        .select(\n",
    "            chain(\n",
    "                (\"Class\", \"Model\", \"Make\", \"Stars\", \"Rank\"), testing_columns_with_rank\n",
    "            )\n",
    "        )\n",
    "    )\n",
    "\n",
    "\n",
    "df = tweak_df(json_file)"
   ]
  },
  {
   "cell_type": "markdown",
   "id": "e085a2c1",
   "metadata": {},
   "source": [
    "## 3. Enhancing presentation with great-tables"
   ]
  },
  {
   "cell_type": "markdown",
   "id": "f1f9868f",
   "metadata": {},
   "source": [
    "### 3.0 Refining Table Presentation with Pipeline"
   ]
  },
  {
   "cell_type": "markdown",
   "id": "a83797ec",
   "metadata": {},
   "source": [
    "The core concept of utilizing the pipeline is that each callable (typically a function) receives an instance of a `GT` object as the first input parameter and returns an instance of a `GT` object. This allows us to chain multiple callables together, forming a pipeline.\n",
    "\n",
    "In this section, we'll gradually build each callable and observe how the table is constructed. Instead of rendering the table in HTML directly, we'll use the `make_table()` function to generate multiple **PNG** tables, which internally calls [GT.save()](https://posit-dev.github.io/great-tables/reference/GT.save.html#great_tables.GT.save). These tables will be shown at the end of each subsection. This approach allows us to save each progress step in the `tables` folder. However, since the hyperlinks in the table won't be functional when saved in **PNG** format, this is a minor drawback I hope you can accept. You can find the final table in HTML at [3.15 Final table in HTML](./#final-table-in-html)."
   ]
  },
  {
   "cell_type": "code",
   "execution_count": 6,
   "id": "6a4c5b87",
   "metadata": {},
   "outputs": [],
   "source": [
    "def make_table(\n",
    "    gtbl: GT,\n",
    "    *funcs: Callable[[GT], GT] | Iterable[Callable[[GT], GT]],\n",
    "    tbl_dir: str | Path = \"tables\",\n",
    "    save_png: bool = False,\n",
    ") -> GT:\n",
    "    first = funcs[0]\n",
    "    if isinstance(first, Iterable) and len(funcs) == 1:\n",
    "        funcs = first\n",
    "\n",
    "    table_dir = Path(tbl_dir)\n",
    "    table_dir.mkdir(exist_ok=True)\n",
    "\n",
    "    for i, func in enumerate(funcs, start=1):\n",
    "        gtbl = func(gtbl)\n",
    "        if save_png:\n",
    "            gtbl.save(str(table_dir / f\"{i:02}_{func.__name__}.png\"))\n",
    "    return gtbl"
   ]
  },
  {
   "cell_type": "markdown",
   "id": "ea800422",
   "metadata": {},
   "source": [
    "Before moving on, we need to define the color palette for later use. Next, we'll set up some boilerplate code for the table labels. Fortunately, `gt` offers [GT.html()](https://posit-dev.github.io/great-tables/reference/html.html) and [GT.md()](https://posit-dev.github.io/great-tables/reference/md.html) utility functions to assist us. The numbers used here can be easily found in the rating report."
   ]
  },
  {
   "cell_type": "code",
   "execution_count": 7,
   "id": "834808b6",
   "metadata": {},
   "outputs": [],
   "source": [
    "# | code-fold: true\n",
    "class EuroNCAPPalette(str, Enum):\n",
    "    TABLE_BACKGROUND: str = \"#F5F5F5\"\n",
    "    HIGHLIGHT1: str = \"#C0DA80\"\n",
    "    HIGHLIGHT2: str = \"#C3EBD7\"\n",
    "    HIGHLIGHT3: str = \"#A0E0D0\"\n",
    "    STUB_COLUMN_LABEL: str = \"#D4E6A8\"\n",
    "    ROW_GROUP: str = \"#BFE2A7\"\n",
    "    CELL: str = \"#F4FAF1\"\n",
    "    TITLE: str = \"#30937B\"\n",
    "    GRADIENT1: str = \"#E7CE91\"\n",
    "    GRADIENT2: str = \"#F2E4C0\"\n",
    "    GRADIENT3: str = \"#F5EFE7\"\n",
    "\n",
    "\n",
    "domain_nominal_max = {\n",
    "    \"Frontal Impact\": 16,\n",
    "    \"Lateral Impact\": 16,\n",
    "    \"Rear Impact\": 4,\n",
    "    \"Rescue and Extrication\": 4,\n",
    "    \"Crash Test Performance\": 24,\n",
    "    \"Safety Features\": 13,\n",
    "    \"CRS Installation Check\": 12,\n",
    "    \"VRU Impact Protection\": 36,\n",
    "    \"VRU Impact Mitigation\": 27,\n",
    "    \"Speed Assistance\": 3,\n",
    "    \"Occupant Status Monitoring\": 3,\n",
    "    \"Lane Support\": 3,\n",
    "    \"AEB Car-to-Car\": 9,\n",
    "}\n",
    "\n",
    "adult_occupant_top_score = 40\n",
    "adult_occupant_labels = zip(\n",
    "    adult_occupant_columns,\n",
    "    (\n",
    "        html(\n",
    "            f\"Frontal<br>Impact<br><i>({domain_nominal_max['Frontal Impact']}/{adult_occupant_top_score})</i>\"\n",
    "        ),\n",
    "        html(\n",
    "            f\"Lateral<br>Impact<br><i>({domain_nominal_max['Lateral Impact']}/{adult_occupant_top_score})</i>\"\n",
    "        ),\n",
    "        html(\n",
    "            f\"Rear<br>Impact<br><i>({domain_nominal_max['Rear Impact']}/{adult_occupant_top_score})</i>\"\n",
    "        ),\n",
    "        html(\n",
    "            f\"Rescue&<br>Extrication<br><i>({domain_nominal_max['Rescue and Extrication']}/{adult_occupant_top_score})</i>\"\n",
    "        ),\n",
    "    ),\n",
    ")\n",
    "\n",
    "child_occupant_top_score = 49\n",
    "child_occupant_labels = zip(\n",
    "    child_occupant_columns,\n",
    "    (\n",
    "        html(\n",
    "            f\"Crash<br>Test<br><i>({domain_nominal_max['Crash Test Performance']}/{child_occupant_top_score})</i>\"\n",
    "        ),\n",
    "        html(\n",
    "            f\"Safety<br>Features<br><i>({domain_nominal_max['Safety Features']}/{child_occupant_top_score})</i>\"\n",
    "        ),\n",
    "        html(\n",
    "            f\"CRS<br>Installation<br>Check<br><i>({domain_nominal_max['CRS Installation Check']}/{child_occupant_top_score})</i>\"\n",
    "        ),\n",
    "    ),\n",
    ")\n",
    "\n",
    "vulnerable_road_users_score = 63\n",
    "vulnerable_road_users_labels = zip(\n",
    "    vulnerable_road_users_columns,\n",
    "    (\n",
    "        # add empty space\n",
    "        html(\n",
    "            f\"Impact&nbsp;<br>Protection&nbsp;<br><i>({domain_nominal_max['VRU Impact Protection']}/{vulnerable_road_users_score})&nbsp;</i>\"\n",
    "        ),\n",
    "        html(\n",
    "            f\"Impact&nbsp;<br>Mitigation&nbsp;<br><i>({domain_nominal_max['VRU Impact Mitigation']}/{vulnerable_road_users_score})&nbsp;</i>\"\n",
    "        ),\n",
    "    ),\n",
    ")\n",
    "\n",
    "safety_assist_score = 18\n",
    "safety_assist_labels = zip(\n",
    "    safety_assist_columns,\n",
    "    (\n",
    "        html(\n",
    "            f\"Speed<br>Assistance<br><i>({domain_nominal_max['Speed Assistance']}/{safety_assist_score})</i>\"\n",
    "        ),\n",
    "        html(\n",
    "            f\"Occupant<br>Status<br>Monitoring<br><i>({domain_nominal_max['Occupant Status Monitoring']}/{safety_assist_score})</i>\"\n",
    "        ),\n",
    "        html(\n",
    "            f\"Lane<br>Support<br><i>({domain_nominal_max['Lane Support']}/{safety_assist_score})</i>\"\n",
    "        ),\n",
    "        html(\n",
    "            f\"AEB C2C<b><i><sup>3</sup></i></b><br><i>({domain_nominal_max['AEB Car-to-Car']}/{safety_assist_score})</i>\"\n",
    "        ),\n",
    "    ),\n",
    ")\n",
    "\n",
    "\n",
    "testing_labels = dict(\n",
    "    chain(\n",
    "        adult_occupant_labels,\n",
    "        child_occupant_labels,\n",
    "        vulnerable_road_users_labels,\n",
    "        safety_assist_labels,\n",
    "    )\n",
    ")"
   ]
  },
  {
   "cell_type": "markdown",
   "id": "839a2a21",
   "metadata": {},
   "source": [
    "::: {.callout-tip}\n",
    "You might want to check out [GT.pipe()](https://github.com/posit-dev/great-tables/pull/363), which may possibly be merged as you review the project.\n",
    "\n",
    ":::"
   ]
  },
  {
   "cell_type": "markdown",
   "id": "ccbf92e1",
   "metadata": {},
   "source": [
    "### 3.1 Defaults"
   ]
  },
  {
   "cell_type": "markdown",
   "id": "f99a9179",
   "metadata": {},
   "source": [
    "Before applying styling to `df` using `gt`, let's first preview how the defaults look with `df`:"
   ]
  },
  {
   "cell_type": "code",
   "execution_count": 8,
   "id": "0b5fbe6d",
   "metadata": {},
   "outputs": [],
   "source": [
    "def default_table(gtbl: GT) -> GT:\n",
    "    return gtbl"
   ]
  },
  {
   "cell_type": "markdown",
   "id": "25e1b6fc",
   "metadata": {},
   "source": [
    "![](./tables/01_default_table.png)"
   ]
  },
  {
   "cell_type": "markdown",
   "id": "cc583988",
   "metadata": {},
   "source": [
    "### 3.2 `grouping_table`"
   ]
  },
  {
   "cell_type": "markdown",
   "id": "1a7c419a",
   "metadata": {},
   "source": [
    "Currently, the `gt` team is working on refactoring the codebase to give users more granular control over `groupname_col` and `rowname_col`. Hence, I actually cheated a little bit to access the underlying `_tbl_data` (the Polars DataFrame `df`) for use in the pipeline."
   ]
  },
  {
   "cell_type": "code",
   "execution_count": 9,
   "id": "d9bd31d0",
   "metadata": {},
   "outputs": [],
   "source": [
    "def grouping_table(\n",
    "    gtbl: GT, groupname_col: str = \"Class\", rowname_col: str = \"Model\"\n",
    ") -> GT:\n",
    "    return GT(gtbl._tbl_data, groupname_col=groupname_col, rowname_col=rowname_col)"
   ]
  },
  {
   "cell_type": "markdown",
   "id": "7023ca4f",
   "metadata": {},
   "source": [
    "![](./tables/02_grouping_table.png)"
   ]
  },
  {
   "cell_type": "markdown",
   "id": "270b71d7",
   "metadata": {},
   "source": [
    "### 3.3 `add_formatter`"
   ]
  },
  {
   "cell_type": "markdown",
   "id": "24104f04",
   "metadata": {},
   "source": [
    "Here we showcase the use of three types of [GT.fmt_*()](https://posit-dev.github.io/great-tables/reference/#formatting-column-data) methods:\n",
    "\n",
    "* `.fmt_image(\"Make\", path=logo_path)`: Rendering the located image for the `Make` column.\n",
    "* `.fmt_number(columns=testing_columns, decimals=1)`: Formatting the float numbers to one decimal place for all `testing_columns`.\n",
    "* `.fmt_markdown(columns=[\"Model\"])`: Rendering the **Markdown** format in the `Model` column."
   ]
  },
  {
   "cell_type": "code",
   "execution_count": 10,
   "id": "3b0abe0f",
   "metadata": {},
   "outputs": [],
   "source": [
    "def add_formatter(gtbl: GT) -> GT:\n",
    "    return (\n",
    "        gtbl.fmt_image(\"Make\", path=logo_path)\n",
    "        .fmt_number(columns=testing_columns, decimals=1)\n",
    "        .fmt_markdown(columns=[\"Model\"])\n",
    "    )"
   ]
  },
  {
   "cell_type": "markdown",
   "id": "63daef71",
   "metadata": {},
   "source": [
    "![](./tables/03_add_formatter.png)"
   ]
  },
  {
   "cell_type": "markdown",
   "id": "ae2a8909",
   "metadata": {},
   "source": [
    "### 3.4 `adjust_cols`"
   ]
  },
  {
   "cell_type": "markdown",
   "id": "50272a7a",
   "metadata": {},
   "source": [
    "The [GT.cols_*()](https://posit-dev.github.io/great-tables/reference/#modifying-columns) methods provided by `gt` allow us to modify entire columns.\n",
    "Here we include four chained `cols_*` method calls:\n",
    "\n",
    "* `.cols_width(cols_width)`: Defining the column widths for corresponding columns.\n",
    "* `.cols_align(align=\"center\", columns=[\"Make\", \"Stars\"])`: Centering the alignment of the `Make` and `Stars` columns.\n",
    "* `.cols_align(align=\"right\", columns=[\"Rank\"])`: Aligning the `Rank` column to the right.\n",
    "* `.cols_label(**cols_label)`: Renaming the labels for the respective columns.\n",
    "\n",
    "It's important to note that the `GT.cols_label()` method doesn't actually change the names of the columns in `df`; it only changes the display names."
   ]
  },
  {
   "cell_type": "code",
   "execution_count": 11,
   "id": "3ce41238",
   "metadata": {},
   "outputs": [],
   "source": [
    "def adjust_cols(gtbl: GT) -> GT:\n",
    "    cols_width = dict.fromkeys(testing_columns, \"60px\") | dict.fromkeys(\n",
    "        testing_group_names, \"30px\"\n",
    "    )\n",
    "    cols_label = (\n",
    "        {\"Rank\": html(\"<b>Rank<i><sup>1</sup></i></b>\")}\n",
    "        | testing_labels\n",
    "        | dict.fromkeys(testing_group_names, html(f\"<b>SRank<i><sup>2</sup></i></b>\"))\n",
    "    )\n",
    "    return (\n",
    "        gtbl.cols_width(cols_width)\n",
    "        .cols_align(align=\"center\", columns=[\"Make\", \"Stars\"])\n",
    "        .cols_align(align=\"right\", columns=[\"Rank\", *testing_group_names])\n",
    "        .cols_label(**cols_label)\n",
    "    )"
   ]
  },
  {
   "cell_type": "markdown",
   "id": "eb5561ac",
   "metadata": {},
   "source": [
    "![](./tables/04_adjust_cols.png)"
   ]
  },
  {
   "cell_type": "markdown",
   "id": "6911d01b",
   "metadata": {},
   "source": [
    "### 3.5 `add_tab_header`"
   ]
  },
  {
   "cell_type": "markdown",
   "id": "9e05d92e",
   "metadata": {},
   "source": [
    "The [GT.tab_header()](https://posit-dev.github.io/great-tables/reference/GT.tab_header.html#great_tables.GT.tab_header) method allows us to define a `title` and `subtitle`."
   ]
  },
  {
   "cell_type": "code",
   "execution_count": 12,
   "id": "7dc3814b",
   "metadata": {},
   "outputs": [],
   "source": [
    "def add_tab_header(gtbl: GT) -> GT:\n",
    "    return gtbl.tab_header(\n",
    "        title=html(\n",
    "            f\"\"\"<h1><span style=\"color: {EuroNCAPPalette.TITLE.value}\">Euro NCAP SAFETY RATINGS - 2023</span></h1>\"\"\"\n",
    "        ),\n",
    "        subtitle=html(\"\"\"<h2>The more stars, the better.</h2>\"\"\"),\n",
    "    )"
   ]
  },
  {
   "cell_type": "markdown",
   "id": "a70cb411",
   "metadata": {},
   "source": [
    "![](./tables/05_add_tab_header.png)"
   ]
  },
  {
   "cell_type": "markdown",
   "id": "491d749e",
   "metadata": {},
   "source": [
    "### 3.6 `add_tab_spanner`"
   ]
  },
  {
   "cell_type": "markdown",
   "id": "0406c1f7",
   "metadata": {},
   "source": [
    "The [GT.tab_spanner()](https://posit-dev.github.io/great-tables/reference/GT.tab_spanner.html#great_tables.GT.tab_spanner) method allows us to group different columns together. Here, we consecutively call it five times to create five spanners."
   ]
  },
  {
   "cell_type": "code",
   "execution_count": 13,
   "id": "8bb24072",
   "metadata": {},
   "outputs": [],
   "source": [
    "def a_html(text: str, url: str, is_bold: bool = True, align: str = \"center\") -> html:\n",
    "    fragment = '<a href=\"{url}\" style=\"float: {align};\">{text}</a>'\n",
    "    if is_bold:\n",
    "        fragment = f\"<b>{fragment}</b>\"\n",
    "    return html(fragment.format(url=url, text=text, align=align))\n",
    "\n",
    "\n",
    "def add_tab_spanner(gtbl: GT) -> GT:\n",
    "    gtbl = gtbl.tab_spanner(\n",
    "        a_html(\n",
    "            \"Rating\", \"https://www.euroncap.com/en/car-safety/the-ratings-explained/\"\n",
    "        ),\n",
    "        columns=[\"Stars\", \"Rank\"],\n",
    "    )\n",
    "    \n",
    "    labels = (\n",
    "        a_html(\n",
    "            \"Adult Occupant\",\n",
    "            \"https://www.euroncap.com/en/car-safety/the-ratings-explained/adult-occupant-protection/\",\n",
    "        ),\n",
    "        a_html(\n",
    "            \"Child Occupant\",\n",
    "            \"https://www.euroncap.com/en/car-safety/the-ratings-explained/child-occupant-protection/\",\n",
    "        ),\n",
    "        a_html(\n",
    "            \"Vulnerable Road Users\",\n",
    "            \"https://www.euroncap.com/en/car-safety/the-ratings-explained/vulnerable-road-user-vru-protection/\",\n",
    "        ),\n",
    "        a_html(\n",
    "            \"Safety Assist\",\n",
    "            \"https://www.euroncap.com/en/car-safety/the-ratings-explained/safety-assist/\",\n",
    "        ),\n",
    "    )\n",
    "    for label, grp, grp_name in zip(labels, testing_groups, testing_group_names):\n",
    "        gtbl = gtbl.tab_spanner(label, columns=[*grp, grp_name])\n",
    "    return gtbl"
   ]
  },
  {
   "cell_type": "markdown",
   "id": "775bed59",
   "metadata": {},
   "source": [
    "![](./tables/06_add_tab_spanner.png)"
   ]
  },
  {
   "cell_type": "markdown",
   "id": "d89e33a8",
   "metadata": {},
   "source": [
    "### 3.7 `add_tab_stubhead`"
   ]
  },
  {
   "cell_type": "markdown",
   "id": "dceae509",
   "metadata": {},
   "source": [
    "Here we'll set up the stubhead as the EuroNCAP logo (downloaded from this [URL](https://www.euroncap.com/gfx/Euro%20NCAP%20logo%202023_pos.svg)) in **SVG** format using [GT.tab_stubhead()](https://posit-dev.github.io/great-tables/reference/GT.tab_stubhead.html#great_tables.GT.tab_stubhead)."
   ]
  },
  {
   "cell_type": "code",
   "execution_count": 14,
   "id": "acae54e37e7d407bbb7b55eff062a284",
   "metadata": {},
   "outputs": [],
   "source": [
    "def add_tab_stubhead(gtbl: GT) -> GT:\n",
    "    img_src = \"https://raw.githubusercontent.com/jrycw/posit-gt-2024/master/euroncap_logo/euroncap_pos.svg\"\n",
    "    return gtbl.tab_stubhead(html(f'<img src=\"{img_src}\"/></br></br>'))"
   ]
  },
  {
   "cell_type": "markdown",
   "id": "aef9ffd7",
   "metadata": {},
   "source": [
    "![](./tables/07_add_tab_stubhead.png)"
   ]
  },
  {
   "cell_type": "markdown",
   "id": "ae8acfb5",
   "metadata": {},
   "source": [
    "### 3.8 `add_tab_option`"
   ]
  },
  {
   "cell_type": "markdown",
   "id": "4e7ddbbb",
   "metadata": {},
   "source": [
    "[GT.tab_options()](https://posit-dev.github.io/great-tables/reference/GT.tab_options.html#great_tables.GT.tab_options) provides numerous options that allow us to exercise fine-grained control over the table. You should definitely explore these options and tailor them to suit your own table. Enjoy experimenting!"
   ]
  },
  {
   "cell_type": "code",
   "execution_count": 15,
   "id": "d62af173",
   "metadata": {},
   "outputs": [],
   "source": [
    "def add_tab_option(gtbl: GT) -> GT:\n",
    "    return gtbl.tab_options(\n",
    "        stub_background_color=EuroNCAPPalette.STUB_COLUMN_LABEL.value,\n",
    "        table_background_color=EuroNCAPPalette.TABLE_BACKGROUND.value,\n",
    "        heading_align=\"left\",\n",
    "        heading_subtitle_font_size=\"16px\",\n",
    "        heading_subtitle_font_weight=\"bold\",\n",
    "        column_labels_font_size=\"14px\",\n",
    "        column_labels_background_color=EuroNCAPPalette.STUB_COLUMN_LABEL.value,\n",
    "        row_group_font_size=\"18px\",\n",
    "        row_group_font_weight=\"bold\",\n",
    "        row_group_background_color=EuroNCAPPalette.ROW_GROUP.value,\n",
    "        table_font_names=system_fonts(\"industrial\"),\n",
    "    )"
   ]
  },
  {
   "cell_type": "markdown",
   "id": "07f31296",
   "metadata": {},
   "source": [
    "![](./tables/08_add_tab_option.png)"
   ]
  },
  {
   "cell_type": "markdown",
   "id": "e32aefc8",
   "metadata": {},
   "source": [
    "### 3.9 `add_tab_style`"
   ]
  },
  {
   "cell_type": "markdown",
   "id": "ac81b535",
   "metadata": {},
   "source": [
    "[GT.tab_style()](https://posit-dev.github.io/great-tables/reference/GT.tab_style.html#great_tables.GT.tab_style) allows us to apply styles to specific cells using the `locations` parameter. With the help of [loc.body()](https://posit-dev.github.io/great-tables/reference/loc.body.html#great_tables.loc.body), we can [target rows using Polars expressions](https://posit-dev.github.io/great-tables/get-started/row-selection.html#using-polars-expressions) and [locate columns using Polars selectors](https://posit-dev.github.io/great-tables/get-started/column-selection.html#using-polars-selectors), which is a neat feature provided by `gt`.\n",
    "\n",
    "Here we apply two types of styling:\n",
    "\n",
    "* Assigning all columns a default style color `EuroNCAPPalette.CELL`.\n",
    "* Highlighting the cars in the `Stars` column that have a five-star rating with the style color `EuroNCAPPalette.HIGHLIGHT1`."
   ]
  },
  {
   "cell_type": "code",
   "execution_count": 16,
   "id": "b9ef9e6a",
   "metadata": {},
   "outputs": [],
   "source": [
    "def add_tab_style(gtbl: GT) -> GT:\n",
    "    return gtbl.tab_style(\n",
    "        style=style.fill(color=EuroNCAPPalette.CELL.value),\n",
    "        locations=loc.body(columns=cs.all()),\n",
    "    ).tab_style(\n",
    "        style=style.fill(color=EuroNCAPPalette.HIGHLIGHT1.value),\n",
    "        locations=loc.body(columns=\"Stars\", rows=pl.col(\"Stars\").eq(\"5⭐\")),\n",
    "    )"
   ]
  },
  {
   "cell_type": "markdown",
   "id": "9c0fa3bd",
   "metadata": {},
   "source": [
    "![](./tables/09_add_tab_style.png)"
   ]
  },
  {
   "cell_type": "markdown",
   "id": "1bb9ecea",
   "metadata": {},
   "source": [
    "::: {.callout-tip}\n",
    "If you're using `gt` 0.6.2 or above along with Polars 0.20.30 or above, you can use Polars expressions for column selection as well. Many thanks to [Polars for their support](https://github.com/posit-dev/great-tables/pull/368).\n",
    "\n",
    ":::"
   ]
  },
  {
   "cell_type": "markdown",
   "id": "f45e7ca5",
   "metadata": {},
   "source": [
    "### 3.10 `add_data_color`"
   ]
  },
  {
   "cell_type": "markdown",
   "id": "a8cef145",
   "metadata": {},
   "source": [
    "Here, we're employing [GT.data_color()](https://posit-dev.github.io/great-tables/reference/GT.data_color.html#great_tables.GT.data_color) to achieve a gradient palette effect for the `Rank` column. This enables us to visually represent that darker cells correspond to better ranks."
   ]
  },
  {
   "cell_type": "code",
   "execution_count": 17,
   "id": "03a97229",
   "metadata": {},
   "outputs": [],
   "source": [
    "def add_data_color(gtbl: GT) -> GT:\n",
    "    return gtbl.data_color(\n",
    "        domain=[1, df.height],\n",
    "        palette=[\n",
    "            g.value\n",
    "            for g in (\n",
    "                EuroNCAPPalette.GRADIENT1,\n",
    "                EuroNCAPPalette.GRADIENT2,\n",
    "                EuroNCAPPalette.GRADIENT3,\n",
    "            )\n",
    "        ],\n",
    "        columns=[\"Rank\", *testing_group_names],\n",
    "    )"
   ]
  },
  {
   "cell_type": "markdown",
   "id": "241c6242",
   "metadata": {},
   "source": [
    "![](./tables/10_add_data_color.png)"
   ]
  },
  {
   "cell_type": "markdown",
   "id": "7c13a596",
   "metadata": {},
   "source": [
    "### 3.11 `add_tab_footnote`"
   ]
  },
  {
   "cell_type": "markdown",
   "id": "4ed9786e",
   "metadata": {},
   "source": [
    "Currently, the footnote feature is not yet implemented in `gt`. However, we can leverage [GT.tab_source_note()](https://posit-dev.github.io/great-tables/reference/GT.tab_source_note.html#great_tables.GT.tab_source_note) to achieve a similar result."
   ]
  },
  {
   "cell_type": "code",
   "execution_count": 18,
   "id": "76b74bb3",
   "metadata": {},
   "outputs": [],
   "source": [
    "def add_tab_footnote(gtbl: GT) -> GT:\n",
    "    return (\n",
    "        gtbl.tab_source_note(\n",
    "            html(\n",
    "                \"<i><sup>1 </sup></i>Rank is derived from the rank of the averaged ranks across the four categories.\"\n",
    "            )\n",
    "        )\n",
    "        .tab_source_note(\n",
    "            html(\n",
    "                \"<i><sup>2 </sup></i>SRank refers to ranking by the sum of each category.\"\n",
    "            )\n",
    "        )\n",
    "        .tab_source_note(html(\"<i><sup>3 </sup></i>AEB C2C stands for AEB Car-to-Car.\"))\n",
    "    )"
   ]
  },
  {
   "cell_type": "markdown",
   "id": "40074406",
   "metadata": {},
   "source": [
    "![](./tables/11_add_tab_footnote.png)"
   ]
  },
  {
   "cell_type": "markdown",
   "id": "b13e2cad",
   "metadata": {},
   "source": [
    "### 3.12 `add_source_note`"
   ]
  },
  {
   "cell_type": "markdown",
   "id": "6f602b20",
   "metadata": {},
   "source": [
    "Again, we'll use `GT.tab_source_note()` to add the data source, the table creator, and the URL of this repository."
   ]
  },
  {
   "cell_type": "code",
   "execution_count": 19,
   "id": "bb4154b8",
   "metadata": {},
   "outputs": [],
   "source": [
    "def add_source_note(gtbl: GT) -> GT:\n",
    "    source = 'Source: <a href=\"https://www.euroncap.com/en\">Euro NCAP</a>'\n",
    "    table = 'Table: <a href=\"https://cv.ycwu.space\">Jerry Wu</a>'\n",
    "    repo = 'Repo: <a href=\"https://github.com/jrycw/posit-gt-2024\">posit-gt-2024</a>'\n",
    "    return gtbl.tab_source_note(html(\" | \".join([source, table, repo])))"
   ]
  },
  {
   "cell_type": "markdown",
   "id": "208e6fe9",
   "metadata": {},
   "source": [
    "![](./tables/12_add_source_note.png)"
   ]
  },
  {
   "cell_type": "markdown",
   "id": "068af05a",
   "metadata": {},
   "source": [
    "### 3.13 `final_table`"
   ]
  },
  {
   "cell_type": "markdown",
   "id": "80d20938",
   "metadata": {},
   "source": [
    "`final_table` serves as the culminating pipeline, representing the last step in the process. In this scenario, it simply returns the table it receives without any modifications. Regarding the image, you may notice a small gray area on the right side of the table. This could be due to the use of `groupname_col` and `rowname_col`, with the current logic not fully optimized for these conditions. For now, I manually adjusted the table to remove the small pieces on the left and right sides for aesthetic reasons."
   ]
  },
  {
   "cell_type": "code",
   "execution_count": 20,
   "id": "4268a1b8",
   "metadata": {},
   "outputs": [],
   "source": [
    "def final_table(gtbl: GT) -> GT:\n",
    "    return gtbl"
   ]
  },
  {
   "cell_type": "markdown",
   "id": "25a58c39",
   "metadata": {},
   "source": [
    "![](./tables/13_final_table.png)"
   ]
  },
  {
   "cell_type": "markdown",
   "id": "549071c3",
   "metadata": {},
   "source": [
    "### 3.14 Constructing the pipeline"
   ]
  },
  {
   "cell_type": "markdown",
   "id": "a4992e21",
   "metadata": {},
   "source": [
    "With the `make_table` function provided at the beginning of this section, we can now easily generate our well-designed table."
   ]
  },
  {
   "cell_type": "code",
   "execution_count": 21,
   "id": "3b6e1606",
   "metadata": {},
   "outputs": [],
   "source": [
    "pipelines = [\n",
    "    default_table,\n",
    "    grouping_table,\n",
    "    add_formatter,\n",
    "    adjust_cols,\n",
    "    add_tab_header,\n",
    "    add_tab_spanner,\n",
    "    add_tab_stubhead,\n",
    "    add_tab_option,\n",
    "    add_tab_style,\n",
    "    add_data_color,\n",
    "    add_tab_footnote,\n",
    "    add_source_note,\n",
    "    final_table,\n",
    "]\n",
    "\n",
    "awesome_table = make_table(GT(df), pipelines, save_png=False)"
   ]
  },
  {
   "cell_type": "markdown",
   "id": "f4ad0f3b",
   "metadata": {},
   "source": [
    "### 3.15 Final table in HTML"
   ]
  },
  {
   "cell_type": "markdown",
   "id": "dbca218c",
   "metadata": {},
   "source": [
    "You can find the final table in HTML format on [Quarto Pub](https://jrycw.quarto.pub/euroncap-2023/)."
   ]
  },
  {
   "cell_type": "markdown",
   "id": "2901ccd1",
   "metadata": {},
   "source": [
    "## 4. Final thoughts"
   ]
  },
  {
   "cell_type": "markdown",
   "id": "c0f16876",
   "metadata": {},
   "source": [
    "* `gt` is mainly maintained by [@Richard](https://github.com/rich-iannone) and [@Michael](https://github.com/machow), with occasional contributions from others, including myself, [@jrycw](https://gh.ycwu.space). Our goal is to port everything from `{gt}` to `gt`, and we welcome more contributors to help make `gt` even better. Join us if you're interested in creating great tables!\n",
    "* With more features being implemented in `gt`, such as functions similar to [fmt_url()](https://gt.rstudio.com/reference/fmt_url.html?q=fmt_url) and [cols_merge()](https://gt.rstudio.com/reference/cols_merge.html) in `{gt}`, many operations can be offloaded to `gt` instead of directly manipulating the Polars DataFrame. This flexibility allows users to choose the most convenient approach for their application, whether from the data layer or the presentation layer.\n",
    "* Thanks to [Curtis](https://www.linkedin.com/in/curtiskephart/) for suggesting rendering the table in HTML on Quarto Pub.\n",
    "* This project is accomplished through collaboration with AI models."
   ]
  }
 ],
 "metadata": {
  "kernelspec": {
   "display_name": "Python 3 (ipykernel)",
   "language": "python",
   "name": "python3"
  },
  "language_info": {
   "codemirror_mode": {
    "name": "ipython",
    "version": 3
   },
   "file_extension": ".py",
   "mimetype": "text/x-python",
   "name": "python",
   "nbconvert_exporter": "python",
   "pygments_lexer": "ipython3",
   "version": "3.12.2"
  }
 },
 "nbformat": 4,
 "nbformat_minor": 5
}
